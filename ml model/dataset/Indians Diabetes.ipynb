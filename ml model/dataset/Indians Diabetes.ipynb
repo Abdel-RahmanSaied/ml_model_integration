{
 "cells": [
  {
   "cell_type": "markdown",
   "metadata": {
    "id": "SW85rDjOAgZE"
   },
   "source": [
    "# Import the necessary libraries\n",
    "\n",
    "---\n",
    "\n"
   ]
  },
  {
   "cell_type": "code",
   "execution_count": 1,
   "metadata": {
    "id": "MDSqNtNZAZ6x"
   },
   "outputs": [],
   "source": [
    "import pandas as pd\n",
    "import numpy as np\n",
    "import matplotlib.pyplot as plt\n",
    "import seaborn as sns"
   ]
  },
  {
   "cell_type": "code",
   "execution_count": 2,
   "metadata": {
    "id": "_wlGsr-wKY27"
   },
   "outputs": [],
   "source": [
    "dataset_url= '/content/indians-diabetes_data.csv'"
   ]
  },
  {
   "cell_type": "markdown",
   "metadata": {
    "id": "opEU5XpYAqej"
   },
   "source": [
    "#load dataset\n",
    "\n",
    "### First, we need to load the dataset. You can use the following code to load the dataset from the given link:\n"
   ]
  },
  {
   "cell_type": "code",
   "execution_count": 3,
   "metadata": {
    "colab": {
     "base_uri": "https://localhost:8080/"
    },
    "id": "Ysy7JIslAyv8",
    "outputId": "8816716e-ba4b-4041-dd15-28074c403d39"
   },
   "outputs": [
    {
     "name": "stdout",
     "output_type": "stream",
     "text": [
      "   0    1   2   3    4     5      6   7  8\n",
      "0  6  148  72  35    0  33.6  0.627  50  1\n",
      "1  1   85  66  29    0  26.6  0.351  31  0\n",
      "2  8  183  64   0    0  23.3  0.672  32  1\n",
      "3  1   89  66  23   94  28.1  0.167  21  0\n",
      "4  0  137  40  35  168  43.1  2.288  33  1\n"
     ]
    }
   ],
   "source": [
    "# load the dataset\n",
    "dataset = pd.read_csv(dataset_url, header=None)\n",
    "\n",
    "# print the first 5 rows of the dataset\n",
    "print(dataset.head())"
   ]
  },
  {
   "cell_type": "markdown",
   "metadata": {
    "id": "kXUKNAhCKxfA"
   },
   "source": [
    "# Next, we need to split the dataset into features (X) and labels (y). In this dataset, the last column (column 8) is the label column and the first 8 columns are the feature columns."
   ]
  },
  {
   "cell_type": "code",
   "execution_count": 4,
   "metadata": {
    "id": "MW3d_PTfAEp8"
   },
   "outputs": [],
   "source": [
    "# split into input (X) and output (y) variables\n",
    "X = dataset.iloc[:, :-1].values\n",
    "y = dataset.iloc[:, -1].values"
   ]
  },
  {
   "cell_type": "markdown",
   "metadata": {
    "id": "GIoTdckvLCoD"
   },
   "source": [
    "# Now, we need to split the dataset into training and testing sets. We can use the train_test_split function from the sklearn.model_selection module to split the dataset. You can use the following code to split the dataset:"
   ]
  },
  {
   "cell_type": "code",
   "execution_count": 5,
   "metadata": {
    "id": "U-hhJr71ARe1"
   },
   "outputs": [],
   "source": [
    "from sklearn.model_selection import train_test_split\n",
    "\n",
    "# split the dataset into training and testing sets\n",
    "X_train, X_test, y_train, y_test = train_test_split(X, y, test_size=0.2, random_state=1)"
   ]
  },
  {
   "cell_type": "markdown",
   "metadata": {
    "id": "vH8DQ3T2LORK"
   },
   "source": [
    "# Now, we can train a machine learning model on the training set and evaluate its performance on the testing set. We will use a logistic regression model for this problem. You can use the following code to train the model and make predictions on the testing set:"
   ]
  },
  {
   "cell_type": "code",
   "execution_count": 6,
   "metadata": {
    "colab": {
     "base_uri": "https://localhost:8080/"
    },
    "id": "TvkDjO98AXH-",
    "outputId": "8b61c944-5046-4b70-9c39-abfeb753fa40"
   },
   "outputs": [
    {
     "name": "stdout",
     "output_type": "stream",
     "text": [
      "Accuracy: 0.7792207792207793\n"
     ]
    }
   ],
   "source": [
    "from sklearn.linear_model import LogisticRegression\n",
    "from sklearn.metrics import accuracy_score\n",
    "\n",
    "# train the model\n",
    "model = LogisticRegression(solver='liblinear')\n",
    "model.fit(X_train, y_train)\n",
    "\n",
    "# make predictions on the testing set\n",
    "y_pred = model.predict(X_test)\n",
    "\n",
    "# calculate the accuracy of the model\n",
    "accuracy = accuracy_score(y_test, y_pred)\n",
    "print(\"Accuracy:\", accuracy)"
   ]
  },
  {
   "cell_type": "markdown",
   "metadata": {
    "id": "mVlABHfULesM"
   },
   "source": [
    "saving the model to deploy it in production"
   ]
  },
  {
   "cell_type": "code",
   "execution_count": 7,
   "metadata": {
    "id": "m83R9j_ALUpP"
   },
   "outputs": [],
   "source": [
    "import pickle\n",
    "\n",
    "# Save the trained model\n",
    "with open('diabetes_model.pkl', 'wb') as file:\n",
    "    pickle.dump(model, file)"
   ]
  },
  {
   "cell_type": "code",
   "execution_count": 8,
   "metadata": {
    "id": "l4BYdHKTLlxc"
   },
   "outputs": [],
   "source": [
    "# Load the saved model\n",
    "with open('diabetes_model.pkl', 'rb') as file:\n",
    "    saved_model = pickle.load(file)\n",
    "\n"
   ]
  },
  {
   "cell_type": "code",
   "execution_count": 9,
   "metadata": {
    "id": "yvkfs0OwMkKm"
   },
   "outputs": [],
   "source": [
    "# Define the deployment function\n",
    "def predict_diabetes(data, model):\n",
    "    # Preprocess the input data\n",
    "    # X = preprocess_data(data)\n",
    "\n",
    "    # Make predictions using the trained model\n",
    "    y_pred = model.predict(X)\n",
    "\n",
    "    # Return the predictions\n",
    "    return y_pred"
   ]
  },
  {
   "cell_type": "code",
   "execution_count": 10,
   "metadata": {
    "id": "azlVbyJrMoKo"
   },
   "outputs": [],
   "source": [
    "def map_result(prediction):\n",
    "    if prediction == 1:\n",
    "        return \"Positive for diabetes\"\n",
    "    else:\n",
    "        return \"Negative for diabetes\""
   ]
  },
  {
   "cell_type": "code",
   "execution_count": 11,
   "metadata": {
    "colab": {
     "base_uri": "https://localhost:8080/"
    },
    "id": "XBEawB9_NM9H",
    "outputId": "bc021c70-1d38-4760-cd55-c6349f20a1f9"
   },
   "outputs": [
    {
     "name": "stdout",
     "output_type": "stream",
     "text": [
      "Positive for diabetes\n"
     ]
    }
   ],
   "source": [
    "prediction = saved_model.predict([[6, 148, 72, 35, 0, 33.6, 0.627, 50]])\n",
    "print(map_result(prediction))"
   ]
  }
 ],
 "metadata": {
  "colab": {
   "provenance": []
  },
  "kernelspec": {
   "display_name": "Python 3 (ipykernel)",
   "language": "python",
   "name": "python3"
  },
  "language_info": {
   "codemirror_mode": {
    "name": "ipython",
    "version": 3
   },
   "file_extension": ".py",
   "mimetype": "text/x-python",
   "name": "python",
   "nbconvert_exporter": "python",
   "pygments_lexer": "ipython3",
   "version": "3.8.16"
  }
 },
 "nbformat": 4,
 "nbformat_minor": 1
}
